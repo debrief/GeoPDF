{
 "cells": [
  {
   "cell_type": "code",
   "execution_count": 46,
   "metadata": {},
   "outputs": [
    {
     "ename": "FileNotFoundError",
     "evalue": "[Errno 2] No such file or directory: 'test_split'",
     "output_type": "error",
     "traceback": [
      "\u001b[0;31m---------------------------------------------------------------------------\u001b[0m",
      "\u001b[0;31mFileNotFoundError\u001b[0m                         Traceback (most recent call last)",
      "\u001b[0;32m<ipython-input-46-d9e3f457875d>\u001b[0m in \u001b[0;36m<module>\u001b[0;34m\u001b[0m\n\u001b[1;32m      1\u001b[0m \u001b[0;32mimport\u001b[0m \u001b[0mos\u001b[0m\u001b[0;34m\u001b[0m\u001b[0;34m\u001b[0m\u001b[0m\n\u001b[0;32m----> 2\u001b[0;31m \u001b[0mos\u001b[0m\u001b[0;34m.\u001b[0m\u001b[0mchdir\u001b[0m\u001b[0;34m(\u001b[0m\u001b[0;34m'test_split'\u001b[0m\u001b[0;34m)\u001b[0m\u001b[0;34m\u001b[0m\u001b[0;34m\u001b[0m\u001b[0m\n\u001b[0m\u001b[1;32m      3\u001b[0m \u001b[0;32mimport\u001b[0m \u001b[0mgeojson\u001b[0m\u001b[0;34m\u001b[0m\u001b[0;34m\u001b[0m\u001b[0m\n\u001b[1;32m      4\u001b[0m \u001b[0;32mfrom\u001b[0m \u001b[0mdateutil\u001b[0m\u001b[0;34m.\u001b[0m\u001b[0mparser\u001b[0m \u001b[0;32mimport\u001b[0m \u001b[0mparse\u001b[0m\u001b[0;34m\u001b[0m\u001b[0;34m\u001b[0m\u001b[0m\n\u001b[1;32m      5\u001b[0m \u001b[0;32mfrom\u001b[0m \u001b[0mglob\u001b[0m \u001b[0;32mimport\u001b[0m \u001b[0mglob\u001b[0m\u001b[0;34m\u001b[0m\u001b[0;34m\u001b[0m\u001b[0m\n",
      "\u001b[0;31mFileNotFoundError\u001b[0m: [Errno 2] No such file or directory: 'test_split'"
     ]
    }
   ],
   "source": [
    "import os\n",
    "os.chdir('test_split')\n",
    "import geojson\n",
    "from dateutil.parser import parse\n",
    "from glob import glob"
   ]
  },
  {
   "cell_type": "code",
   "execution_count": 72,
   "metadata": {},
   "outputs": [],
   "source": [
    "def split_geojson(input_geojson, folder_name, split_minutes=5):\n",
    "    if not os.path.exists(folder_name):\n",
    "        os.mkdir(folder_name)\n",
    "    \n",
    "    with open(input_geojson, 'r') as f:\n",
    "        input_points = geojson.load(f)\n",
    "        \n",
    "    basename = os.path.join(folder_name, os.path.basename(input_geojson).replace(\".geojson\", \"\"))\n",
    "        \n",
    "    write_first_point(input_points, basename, split_minutes)\n",
    "    write_lines(input_points, basename, split_minutes)\n",
    "    write_interval(input_points, basename, interval=10, split_minutes=split_minutes, name='10min')\n",
    "    write_interval(input_points, basename, interval=60, split_minutes=split_minutes, name='Hourly')"
   ]
  },
  {
   "cell_type": "code",
   "execution_count": 48,
   "metadata": {},
   "outputs": [],
   "source": [
    "def write_first_point(input_points, basename, split_minutes):\n",
    "    first_point = geojson.FeatureCollection([input_points[0]])\n",
    "    time = parse(input_points[0].properties['time'])\n",
    "    time_str = f\"{time.hour:02}{(time.minute // split_minutes) * split_minutes:02}\"\n",
    "    output_filename = basename + f\"_FirstPoint_{time_str}.geojson\"\n",
    "    with open(output_filename, 'w') as f:\n",
    "        geojson.dump(first_point, f)"
   ]
  },
  {
   "cell_type": "code",
   "execution_count": 49,
   "metadata": {},
   "outputs": [],
   "source": [
    "def feature_from_line_coords(segment):\n",
    "    line_string = geojson.LineString(coordinates=segment)\n",
    "    feature = geojson.Feature(geometry=line_string)\n",
    "    \n",
    "    return feature"
   ]
  },
  {
   "cell_type": "code",
   "execution_count": 50,
   "metadata": {
    "scrolled": false
   },
   "outputs": [],
   "source": [
    "def write_lines(input_points, basename, split_minutes):\n",
    "    line_segments = {}\n",
    "    current_line_seg = []\n",
    "\n",
    "    # Split the lines\n",
    "    for feature in input_points.features:\n",
    "        coords = feature.geometry.coordinates\n",
    "        time = parse(feature.properties['time'])\n",
    "\n",
    "        current_line_seg.append(coords)\n",
    "        if time.minute % split_minutes == 0:\n",
    "            if len(current_line_seg) > 1:\n",
    "                # If we've got something from before, then add to list of segs\n",
    "                time_str = f\"{time.hour:02}{(time.minute // split_minutes) * split_minutes:02}\"\n",
    "                line_segments[time_str] = current_line_seg\n",
    "            # Start new line segment\n",
    "            current_line_seg = [coords]\n",
    "\n",
    "    # Deal with any left over at the end\n",
    "    time_str = f\"{time.hour:02}{((time.minute // split_minutes) + 1) * split_minutes:02}\"\n",
    "    line_segments[time_str] = current_line_seg\n",
    "\n",
    "    # Write them out to separate files\n",
    "    for time, segment in line_segments.items():\n",
    "        feature = feature_from_line_coords(segment)\n",
    "        feature_collection = geojson.FeatureCollection([feature])\n",
    "        with open(basename + '_Lines_' + str(time) + '.geojson', 'w') as f:\n",
    "            geojson.dump(feature_collection, f)\n",
    "    "
   ]
  },
  {
   "cell_type": "code",
   "execution_count": 51,
   "metadata": {},
   "outputs": [],
   "source": [
    "def write_interval(input_points, basename, interval, split_minutes, name):\n",
    "    points = {}\n",
    "    current_points = []\n",
    "\n",
    "    for feature in input_points.features:\n",
    "        time = parse(feature.properties['time'])\n",
    "\n",
    "        if time.minute % interval == 0:\n",
    "            properties = feature.properties\n",
    "            time = parse(properties['time'])\n",
    "            properties['time_str'] = f\"{time.hour:02}{time.minute:02}\"\n",
    "            current_points.append(geojson.Feature(geometry=feature.geometry, properties=properties))\n",
    "            \n",
    "        if time.minute % split_minutes == 0:\n",
    "            if len(current_points) > 0:\n",
    "                time_str = f\"{time.hour:02}{(time.minute // split_minutes) * split_minutes:02}\"\n",
    "                points[time_str] = current_points\n",
    "            current_points = []\n",
    "\n",
    "\n",
    "    for time, feature in points.items():\n",
    "        feature_collection = geojson.FeatureCollection(feature)\n",
    "        with open(basename + '_' + name + \"_\" + str(time) + '.geojson', 'w') as f:\n",
    "            geojson.dump(feature_collection, f)"
   ]
  },
  {
   "cell_type": "code",
   "execution_count": 52,
   "metadata": {},
   "outputs": [],
   "source": [
    "def generate_layer_list(time_strs):\n",
    "    layer_list = \"\"\n",
    "    \n",
    "    layer_template = \"\"\"<Layer id=\"1995-12-12 {time}\" name=\"1995-12-12 {time}\">\n",
    "    <Layer id=\"Nelson 1995-12-12 {time}\" name=\"Nelson\"/>\n",
    "    <Layer id=\"Collingwood 1995-12-12 {time}\" name=\"Collingwood\"/>\n",
    "</Layer>\"\"\"\n",
    "    \n",
    "    \n",
    "    for time_str in time_strs:\n",
    "        layer_list += \"\\n\" + layer_template.format(time=time_str)\n",
    "        \n",
    "    return layer_list"
   ]
  },
  {
   "cell_type": "code",
   "execution_count": 53,
   "metadata": {},
   "outputs": [],
   "source": [
    "def generate_content_layer(time_str):\n",
    "    time_no_colon = time_str.replace(\":\", \"\")\n",
    "    content = \"\"\n",
    "    \n",
    "    content += f'<IfLayerOn layerId=\"1995-12-12 {time_str}\">\\n'\n",
    "    \n",
    "    content += generate_ship_content_layer(time_str, \"Nelson\") + '\\n\\n'\n",
    "    \n",
    "    content += generate_ship_content_layer(time_str, \"Collingwood\")\n",
    "    \n",
    "    content += \"</IfLayerOn>\"\n",
    "    \n",
    "    return content"
   ]
  },
  {
   "cell_type": "code",
   "execution_count": 54,
   "metadata": {},
   "outputs": [],
   "source": [
    "def generate_ship_content_layer(time_str, ship_name):\n",
    "    time_no_colon = time_str.replace(\":\", \"\")\n",
    "    \n",
    "    color = SHIP_NAME_TO_COLOR[ship_name]\n",
    "    content = \"\"\n",
    "    \n",
    "    \n",
    "    content += '    <IfLayerOn layerId=\"{ship_name} 1995-12-12 {time}\">\\n'\n",
    "    \n",
    "    if os.path.exists(f\"{ship_name}_Lines_{time_no_colon}.geojson\"):\n",
    "        content += \"\"\"        <Vector dataset=\"{ship_name}_Lines_{time_no_colon}.geojson\" layer=\"{ship_name}_Lines_{time_no_colon}\" georeferencingId=\"georeferenced\" ogrStyleString='PEN(c:{color},w:5px)'/>\\n\"\"\"\n",
    "    \n",
    "    if os.path.exists(f\"{ship_name}_10min_{time_no_colon}.geojson\"):\n",
    "        content += \"\"\"        <Vector dataset=\"{ship_name}_10min_{time_no_colon}.geojson\" layer=\"{ship_name}_10min_{time_no_colon}\" georeferencingId=\"georeferenced\" ogrStyleString='SYMBOL(c:{color},s:2,id:\"ogr-sym-3\")'>\n",
    "                <LogicalStructure displayLayerName=\"{ship_name}\" fieldToDisplay=\"time\"/>\n",
    "        </Vector>\\n\"\"\"\n",
    "        \n",
    "    if os.path.exists(f\"{ship_name}_Hourly_{time_no_colon}.geojson\"):\n",
    "        content += \"\"\"        <VectorLabel dataset=\"{ship_name}_Hourly_{time_no_colon}.geojson\" layer=\"{ship_name}_Hourly_{time_no_colon}\" georeferencingId=\"georeferenced\" ogrStyleString='LABEL(t:{{time_str}},c:{color},s:24pt,p:4,dx:7mm,bo:1)'/>\\n\"\"\"\n",
    "    \n",
    "    if os.path.exists(f\"{ship_name}_FirstPoint_{time_no_colon}.geojson\"):\n",
    "        content += \"\"\"        <VectorLabel dataset=\"{ship_name}_FirstPoint_{time_no_colon}.geojson\" layer=\"{ship_name}_FirstPoint_{time_no_colon}\" georeferencingId=\"georeferenced\" ogrStyleString='LABEL(t:\"{ship_name}\",c:{color},s:24pt,p:2,dy:10mm,bo:1)'/>\\n\"\"\"\n",
    "    \n",
    "    content += \"    </IfLayerOn>\"\n",
    "    \n",
    "    return content.format(time=time_str, time_no_colon=time_no_colon, ship_name=ship_name, color=color)"
   ]
  },
  {
   "cell_type": "code",
   "execution_count": 63,
   "metadata": {},
   "outputs": [],
   "source": [
    "def generate_js_timestamps(time_strs):\n",
    "    content = \"var timestamps = [\\n\"\n",
    "    \n",
    "    template = \"\"\"{{\n",
    "    name: &quot;1995-12-12 {time_str}&quot;,\n",
    "    ocg_name: &quot;1995-12-12 {time_str}&quot;\n",
    "}},\\n\"\"\"\n",
    "    \n",
    "    for time_str in time_strs:\n",
    "        content += template.format(time_str=time_str)\n",
    "    \n",
    "    content += \"];\\n\"\n",
    "    \n",
    "    return content"
   ]
  },
  {
   "cell_type": "code",
   "execution_count": 41,
   "metadata": {},
   "outputs": [],
   "source": [
    "SHIP_NAME_TO_COLOR = {'Nelson': '#bd1b44',\n",
    "                      'Collingwood': '#0d0d8e'}"
   ]
  },
  {
   "cell_type": "code",
   "execution_count": 75,
   "metadata": {},
   "outputs": [],
   "source": [
    "def create_xml(output_filename, folder_name):\n",
    "    os.chdir(folder_name)\n",
    "    files = glob(\"*_*_*.geojson\")\n",
    "    times_set = {os.path.splitext(filename)[0].split(\"_\")[2] for filename in files}\n",
    "    time_strs = [f\"{time[:2]}:{time[2:]}\" for time in sorted(times_set)]\n",
    "\n",
    "    layer_list = generate_layer_list(time_strs)\n",
    "\n",
    "    content_layer_strs = [generate_content_layer(time_str) for time_str in time_strs]\n",
    "    whole_content_layer = \"\\n\\n\".join(content_layer_strs)\n",
    "\n",
    "    js_timestamps = generate_js_timestamps(time_strs)\n",
    "    \n",
    "    with open('../template.xml') as f:\n",
    "        template = f.read()\n",
    "    \n",
    "    template = template.replace(\"!!CONTENT\", whole_content_layer)\n",
    "    template = template.replace(\"!!JS_TIMESTAMPS\", js_timestamps)\n",
    "    template = template.replace(\"!!LAYER_LIST\", layer_list)\n",
    "\n",
    "    with open(output_filename, 'w') as f:\n",
    "        f.write(template)\n",
    "    os.chdir('..')"
   ]
  },
  {
   "cell_type": "code",
   "execution_count": 81,
   "metadata": {},
   "outputs": [],
   "source": [
    "os.chdir('..')"
   ]
  },
  {
   "cell_type": "code",
   "execution_count": 103,
   "metadata": {},
   "outputs": [],
   "source": [
    "minutes = [30, 15, 10, 5, 3, 2, 1]\n",
    "\n",
    "for minute in minutes:\n",
    "    split_geojson(\"Nelson.geojson\", f'split_{minute}min', split_minutes=minute)\n",
    "    split_geojson(\"Collingwood.geojson\", f'split_{minute}min', split_minutes=minute)\n",
    "    create_xml('output.xml', f'split_{minute}min')\n",
    "    \n",
    "    os.chdir(f'split_{minute}min')\n",
    "    result = subprocess.run(f\"python ../gdal_create_pdf.py output.xml split_{minute}min.pdf\", shell=True, stderr=subprocess.PIPE).stderr\n",
    "    if result == '':\n",
    "        print(\"Created\")\n",
    "    os.chdir(\"..\")\n",
    "\n"
   ]
  },
  {
   "cell_type": "code",
   "execution_count": 85,
   "metadata": {},
   "outputs": [],
   "source": [
    "os.chdir('split_30min')"
   ]
  },
  {
   "cell_type": "code",
   "execution_count": 86,
   "metadata": {},
   "outputs": [
    {
     "data": {
      "text/plain": [
       "512"
      ]
     },
     "execution_count": 86,
     "metadata": {},
     "output_type": "execute_result"
    }
   ],
   "source": [
    "os.system(f\"python gdal_create_pdf.py output.xml split_30min.pdf \")"
   ]
  },
  {
   "cell_type": "code",
   "execution_count": 87,
   "metadata": {},
   "outputs": [],
   "source": [
    "import subprocess"
   ]
  },
  {
   "cell_type": "code",
   "execution_count": 97,
   "metadata": {},
   "outputs": [
    {
     "data": {
      "text/plain": [
       "b''"
      ]
     },
     "execution_count": 97,
     "metadata": {},
     "output_type": "execute_result"
    }
   ],
   "source": [
    "subprocess.run(f\"python ../gdal_create_pdf.py output.xml split_30min.pdf\", shell=True, stderr=subprocess.PIPE).stderr"
   ]
  },
  {
   "cell_type": "code",
   "execution_count": 99,
   "metadata": {},
   "outputs": [],
   "source": [
    "os.chdir('..')"
   ]
  },
  {
   "cell_type": "code",
   "execution_count": 101,
   "metadata": {},
   "outputs": [
    {
     "data": {
      "text/plain": [
       "'/Users/robin/.Trash'"
      ]
     },
     "execution_count": 101,
     "metadata": {},
     "output_type": "execute_result"
    }
   ],
   "source": [
    "os.getcwd()"
   ]
  },
  {
   "cell_type": "code",
   "execution_count": 102,
   "metadata": {},
   "outputs": [],
   "source": [
    "os.chdir('/Users/robin/Documents/IanMayo/GeoPDF/test_split')"
   ]
  },
  {
   "cell_type": "code",
   "execution_count": null,
   "metadata": {},
   "outputs": [],
   "source": []
  }
 ],
 "metadata": {
  "hide_input": false,
  "kernelspec": {
   "display_name": "Python 3",
   "language": "python",
   "name": "python3"
  },
  "language_info": {
   "codemirror_mode": {
    "name": "ipython",
    "version": 3
   },
   "file_extension": ".py",
   "mimetype": "text/x-python",
   "name": "python",
   "nbconvert_exporter": "python",
   "pygments_lexer": "ipython3",
   "version": "3.7.6"
  }
 },
 "nbformat": 4,
 "nbformat_minor": 4
}
